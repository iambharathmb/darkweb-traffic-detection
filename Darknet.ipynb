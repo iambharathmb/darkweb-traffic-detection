{
 "cells": [
  {
   "cell_type": "markdown",
   "metadata": {},
   "source": [
    "# Import Basic Libraries"
   ]
  },
  {
   "cell_type": "code",
   "execution_count": 1,
   "metadata": {},
   "outputs": [],
   "source": [
    "import numpy as np\n",
    "import pandas as pd\n",
    "import matplotlib.pyplot as plt\n",
    "import seaborn as sns\n",
    "import warnings\n",
    "warnings.filterwarnings(\"ignore\")"
   ]
  },
  {
   "cell_type": "markdown",
   "metadata": {},
   "source": [
    "# Read Dataset"
   ]
  },
  {
   "cell_type": "code",
   "execution_count": 2,
   "metadata": {},
   "outputs": [
    {
     "data": {
      "text/plain": [
       "(141530, 85)"
      ]
     },
     "execution_count": 2,
     "metadata": {},
     "output_type": "execute_result"
    }
   ],
   "source": [
    "data = pd.read_csv(\"Darknet.csv\")\n",
    "data.shape"
   ]
  },
  {
   "cell_type": "code",
   "execution_count": 3,
   "metadata": {},
   "outputs": [
    {
     "data": {
      "text/html": [
       "<div>\n",
       "<style scoped>\n",
       "    .dataframe tbody tr th:only-of-type {\n",
       "        vertical-align: middle;\n",
       "    }\n",
       "\n",
       "    .dataframe tbody tr th {\n",
       "        vertical-align: top;\n",
       "    }\n",
       "\n",
       "    .dataframe thead th {\n",
       "        text-align: right;\n",
       "    }\n",
       "</style>\n",
       "<table border=\"1\" class=\"dataframe\">\n",
       "  <thead>\n",
       "    <tr style=\"text-align: right;\">\n",
       "      <th></th>\n",
       "      <th>Flow ID</th>\n",
       "      <th>Src IP</th>\n",
       "      <th>Src Port</th>\n",
       "      <th>Dst IP</th>\n",
       "      <th>Dst Port</th>\n",
       "      <th>Protocol</th>\n",
       "      <th>Timestamp</th>\n",
       "      <th>Flow Duration</th>\n",
       "      <th>Total Fwd Packet</th>\n",
       "      <th>Total Bwd packets</th>\n",
       "      <th>...</th>\n",
       "      <th>Active Mean</th>\n",
       "      <th>Active Std</th>\n",
       "      <th>Active Max</th>\n",
       "      <th>Active Min</th>\n",
       "      <th>Idle Mean</th>\n",
       "      <th>Idle Std</th>\n",
       "      <th>Idle Max</th>\n",
       "      <th>Idle Min</th>\n",
       "      <th>Label</th>\n",
       "      <th>Label.1</th>\n",
       "    </tr>\n",
       "  </thead>\n",
       "  <tbody>\n",
       "    <tr>\n",
       "      <th>0</th>\n",
       "      <td>10.152.152.11-216.58.220.99-57158-443-6</td>\n",
       "      <td>10.152.152.11</td>\n",
       "      <td>57158</td>\n",
       "      <td>216.58.220.99</td>\n",
       "      <td>443</td>\n",
       "      <td>6</td>\n",
       "      <td>24/07/2015 04:09:48 PM</td>\n",
       "      <td>229</td>\n",
       "      <td>1</td>\n",
       "      <td>1</td>\n",
       "      <td>...</td>\n",
       "      <td>0</td>\n",
       "      <td>0</td>\n",
       "      <td>0</td>\n",
       "      <td>0</td>\n",
       "      <td>0.000000e+00</td>\n",
       "      <td>0.000</td>\n",
       "      <td>0.000000e+00</td>\n",
       "      <td>0.000000e+00</td>\n",
       "      <td>Non-Tor</td>\n",
       "      <td>AUDIO-STREAMING</td>\n",
       "    </tr>\n",
       "    <tr>\n",
       "      <th>1</th>\n",
       "      <td>10.152.152.11-216.58.220.99-57159-443-6</td>\n",
       "      <td>10.152.152.11</td>\n",
       "      <td>57159</td>\n",
       "      <td>216.58.220.99</td>\n",
       "      <td>443</td>\n",
       "      <td>6</td>\n",
       "      <td>24/07/2015 04:09:48 PM</td>\n",
       "      <td>407</td>\n",
       "      <td>1</td>\n",
       "      <td>1</td>\n",
       "      <td>...</td>\n",
       "      <td>0</td>\n",
       "      <td>0</td>\n",
       "      <td>0</td>\n",
       "      <td>0</td>\n",
       "      <td>0.000000e+00</td>\n",
       "      <td>0.000</td>\n",
       "      <td>0.000000e+00</td>\n",
       "      <td>0.000000e+00</td>\n",
       "      <td>Non-Tor</td>\n",
       "      <td>AUDIO-STREAMING</td>\n",
       "    </tr>\n",
       "    <tr>\n",
       "      <th>2</th>\n",
       "      <td>10.152.152.11-216.58.220.99-57160-443-6</td>\n",
       "      <td>10.152.152.11</td>\n",
       "      <td>57160</td>\n",
       "      <td>216.58.220.99</td>\n",
       "      <td>443</td>\n",
       "      <td>6</td>\n",
       "      <td>24/07/2015 04:09:48 PM</td>\n",
       "      <td>431</td>\n",
       "      <td>1</td>\n",
       "      <td>1</td>\n",
       "      <td>...</td>\n",
       "      <td>0</td>\n",
       "      <td>0</td>\n",
       "      <td>0</td>\n",
       "      <td>0</td>\n",
       "      <td>0.000000e+00</td>\n",
       "      <td>0.000</td>\n",
       "      <td>0.000000e+00</td>\n",
       "      <td>0.000000e+00</td>\n",
       "      <td>Non-Tor</td>\n",
       "      <td>AUDIO-STREAMING</td>\n",
       "    </tr>\n",
       "    <tr>\n",
       "      <th>3</th>\n",
       "      <td>10.152.152.11-74.125.136.120-49134-443-6</td>\n",
       "      <td>10.152.152.11</td>\n",
       "      <td>49134</td>\n",
       "      <td>74.125.136.120</td>\n",
       "      <td>443</td>\n",
       "      <td>6</td>\n",
       "      <td>24/07/2015 04:09:48 PM</td>\n",
       "      <td>359</td>\n",
       "      <td>1</td>\n",
       "      <td>1</td>\n",
       "      <td>...</td>\n",
       "      <td>0</td>\n",
       "      <td>0</td>\n",
       "      <td>0</td>\n",
       "      <td>0</td>\n",
       "      <td>0.000000e+00</td>\n",
       "      <td>0.000</td>\n",
       "      <td>0.000000e+00</td>\n",
       "      <td>0.000000e+00</td>\n",
       "      <td>Non-Tor</td>\n",
       "      <td>AUDIO-STREAMING</td>\n",
       "    </tr>\n",
       "    <tr>\n",
       "      <th>4</th>\n",
       "      <td>10.152.152.11-173.194.65.127-34697-19305-6</td>\n",
       "      <td>10.152.152.11</td>\n",
       "      <td>34697</td>\n",
       "      <td>173.194.65.127</td>\n",
       "      <td>19305</td>\n",
       "      <td>6</td>\n",
       "      <td>24/07/2015 04:09:45 PM</td>\n",
       "      <td>10778451</td>\n",
       "      <td>591</td>\n",
       "      <td>400</td>\n",
       "      <td>...</td>\n",
       "      <td>0</td>\n",
       "      <td>0</td>\n",
       "      <td>0</td>\n",
       "      <td>0</td>\n",
       "      <td>1.440000e+15</td>\n",
       "      <td>3117718.131</td>\n",
       "      <td>1.440000e+15</td>\n",
       "      <td>1.440000e+15</td>\n",
       "      <td>Non-Tor</td>\n",
       "      <td>AUDIO-STREAMING</td>\n",
       "    </tr>\n",
       "  </tbody>\n",
       "</table>\n",
       "<p>5 rows × 85 columns</p>\n",
       "</div>"
      ],
      "text/plain": [
       "                                      Flow ID         Src IP  Src Port  \\\n",
       "0     10.152.152.11-216.58.220.99-57158-443-6  10.152.152.11     57158   \n",
       "1     10.152.152.11-216.58.220.99-57159-443-6  10.152.152.11     57159   \n",
       "2     10.152.152.11-216.58.220.99-57160-443-6  10.152.152.11     57160   \n",
       "3    10.152.152.11-74.125.136.120-49134-443-6  10.152.152.11     49134   \n",
       "4  10.152.152.11-173.194.65.127-34697-19305-6  10.152.152.11     34697   \n",
       "\n",
       "           Dst IP  Dst Port  Protocol               Timestamp  Flow Duration  \\\n",
       "0   216.58.220.99       443         6  24/07/2015 04:09:48 PM            229   \n",
       "1   216.58.220.99       443         6  24/07/2015 04:09:48 PM            407   \n",
       "2   216.58.220.99       443         6  24/07/2015 04:09:48 PM            431   \n",
       "3  74.125.136.120       443         6  24/07/2015 04:09:48 PM            359   \n",
       "4  173.194.65.127     19305         6  24/07/2015 04:09:45 PM       10778451   \n",
       "\n",
       "   Total Fwd Packet  Total Bwd packets  ...  Active Mean  Active Std  \\\n",
       "0                 1                  1  ...            0           0   \n",
       "1                 1                  1  ...            0           0   \n",
       "2                 1                  1  ...            0           0   \n",
       "3                 1                  1  ...            0           0   \n",
       "4               591                400  ...            0           0   \n",
       "\n",
       "   Active Max  Active Min     Idle Mean     Idle Std      Idle Max  \\\n",
       "0           0           0  0.000000e+00        0.000  0.000000e+00   \n",
       "1           0           0  0.000000e+00        0.000  0.000000e+00   \n",
       "2           0           0  0.000000e+00        0.000  0.000000e+00   \n",
       "3           0           0  0.000000e+00        0.000  0.000000e+00   \n",
       "4           0           0  1.440000e+15  3117718.131  1.440000e+15   \n",
       "\n",
       "       Idle Min    Label          Label.1  \n",
       "0  0.000000e+00  Non-Tor  AUDIO-STREAMING  \n",
       "1  0.000000e+00  Non-Tor  AUDIO-STREAMING  \n",
       "2  0.000000e+00  Non-Tor  AUDIO-STREAMING  \n",
       "3  0.000000e+00  Non-Tor  AUDIO-STREAMING  \n",
       "4  1.440000e+15  Non-Tor  AUDIO-STREAMING  \n",
       "\n",
       "[5 rows x 85 columns]"
      ]
     },
     "execution_count": 3,
     "metadata": {},
     "output_type": "execute_result"
    }
   ],
   "source": [
    "data.head()"
   ]
  },
  {
   "cell_type": "code",
   "execution_count": 4,
   "metadata": {},
   "outputs": [
    {
     "data": {
      "text/plain": [
       "Index(['Flow ID', 'Src IP', 'Src Port', 'Dst IP', 'Dst Port', 'Protocol',\n",
       "       'Timestamp', 'Flow Duration', 'Total Fwd Packet', 'Total Bwd packets',\n",
       "       'Total Length of Fwd Packet', 'Total Length of Bwd Packet',\n",
       "       'Fwd Packet Length Max', 'Fwd Packet Length Min',\n",
       "       'Fwd Packet Length Mean', 'Fwd Packet Length Std',\n",
       "       'Bwd Packet Length Max', 'Bwd Packet Length Min',\n",
       "       'Bwd Packet Length Mean', 'Bwd Packet Length Std', 'Flow Bytes/s',\n",
       "       'Flow Packets/s', 'Flow IAT Mean', 'Flow IAT Std', 'Flow IAT Max',\n",
       "       'Flow IAT Min', 'Fwd IAT Total', 'Fwd IAT Mean', 'Fwd IAT Std',\n",
       "       'Fwd IAT Max', 'Fwd IAT Min', 'Bwd IAT Total', 'Bwd IAT Mean',\n",
       "       'Bwd IAT Std', 'Bwd IAT Max', 'Bwd IAT Min', 'Fwd PSH Flags',\n",
       "       'Bwd PSH Flags', 'Fwd URG Flags', 'Bwd URG Flags', 'Fwd Header Length',\n",
       "       'Bwd Header Length', 'Fwd Packets/s', 'Bwd Packets/s',\n",
       "       'Packet Length Min', 'Packet Length Max', 'Packet Length Mean',\n",
       "       'Packet Length Std', 'Packet Length Variance', 'FIN Flag Count',\n",
       "       'SYN Flag Count', 'RST Flag Count', 'PSH Flag Count', 'ACK Flag Count',\n",
       "       'URG Flag Count', 'CWE Flag Count', 'ECE Flag Count', 'Down/Up Ratio',\n",
       "       'Average Packet Size', 'Fwd Segment Size Avg', 'Bwd Segment Size Avg',\n",
       "       'Fwd Bytes/Bulk Avg', 'Fwd Packet/Bulk Avg', 'Fwd Bulk Rate Avg',\n",
       "       'Bwd Bytes/Bulk Avg', 'Bwd Packet/Bulk Avg', 'Bwd Bulk Rate Avg',\n",
       "       'Subflow Fwd Packets', 'Subflow Fwd Bytes', 'Subflow Bwd Packets',\n",
       "       'Subflow Bwd Bytes', 'FWD Init Win Bytes', 'Bwd Init Win Bytes',\n",
       "       'Fwd Act Data Pkts', 'Fwd Seg Size Min', 'Active Mean', 'Active Std',\n",
       "       'Active Max', 'Active Min', 'Idle Mean', 'Idle Std', 'Idle Max',\n",
       "       'Idle Min', 'Label', 'Label.1'],\n",
       "      dtype='object')"
      ]
     },
     "execution_count": 4,
     "metadata": {},
     "output_type": "execute_result"
    }
   ],
   "source": [
    "data.columns"
   ]
  },
  {
   "cell_type": "code",
   "execution_count": 5,
   "metadata": {},
   "outputs": [
    {
     "data": {
      "text/plain": [
       "array(['Non-Tor', 'NonVPN', 'Tor', 'VPN'], dtype=object)"
      ]
     },
     "execution_count": 5,
     "metadata": {},
     "output_type": "execute_result"
    }
   ],
   "source": [
    "lable = data[\"Label\"].unique()\n",
    "lable"
   ]
  },
  {
   "cell_type": "code",
   "execution_count": 6,
   "metadata": {},
   "outputs": [
    {
     "data": {
      "text/plain": [
       "Non-Tor    93356\n",
       "NonVPN     23863\n",
       "VPN        22919\n",
       "Tor         1392\n",
       "Name: Label, dtype: int64"
      ]
     },
     "execution_count": 6,
     "metadata": {},
     "output_type": "execute_result"
    }
   ],
   "source": [
    "data['Label'].value_counts()"
   ]
  },
  {
   "cell_type": "code",
   "execution_count": 7,
   "metadata": {},
   "outputs": [
    {
     "data": {
      "image/png": "[encoded data removed]",
      "text/plain": [
       "<Figure size 640x480 with 1 Axes>"
      ]
     },
     "metadata": {},
     "output_type": "display_data"
    }
   ],
   "source": [
    "ExitedValues = data.Label.value_counts()\n",
    "labels = [\"Non-Tor\",\"NonVPN\",\"VPN\", \"Tor\"]\n",
    "fig1, f1 = plt.subplots()\n",
    "f1.pie(ExitedValues,labels=labels, autopct='%1.1f%%',shadow=True, startangle=60) \n",
    "f1.axis('equal')\n",
    "plt.tight_layout()\n",
    "plt.show()"
   ]
  },
  {
   "cell_type": "code",
   "execution_count": 8,
   "metadata": {},
   "outputs": [
    {
     "data": {
      "image/png": "[encoded data removed]",
      "text/plain": [
       "<Figure size 640x480 with 1 Axes>"
      ]
     },
     "metadata": {},
     "output_type": "display_data"
    }
   ],
   "source": [
    "sns.histplot(data=data, x=\"Label\", stat=\"frequency\")\n",
    "plt.xlabel('')\n",
    "\n",
    "plt.show()"
   ]
  },
  {
   "cell_type": "code",
   "execution_count": 9,
   "metadata": {},
   "outputs": [
    {
     "data": {
      "text/plain": [
       "array(['AUDIO-STREAMING', 'Browsing', 'Chat', 'Email', 'File-Transfer',\n",
       "       'File-transfer', 'P2P', 'Video-Streaming', 'Audio-Streaming',\n",
       "       'Video-streaming', 'VOIP'], dtype=object)"
      ]
     },
     "execution_count": 9,
     "metadata": {},
     "output_type": "execute_result"
    }
   ],
   "source": [
    "data[\"Label.1\"].unique()"
   ]
  },
  {
   "cell_type": "code",
   "execution_count": 10,
   "metadata": {},
   "outputs": [],
   "source": [
    "data['Label.1'].loc[data['Label.1'] == 'AUDIO-STREAMING'] = 'Audio-Streaming'\n",
    "data['Label.1'].loc[data['Label.1'] == 'File-transfer'] = 'File-Transfer'\n",
    "data['Label.1'].loc[data['Label.1'] == 'Video-streaming'] = 'Video-Streaming'"
   ]
  },
  {
   "cell_type": "code",
   "execution_count": 11,
   "metadata": {},
   "outputs": [
    {
     "data": {
      "text/plain": [
       "array(['Audio-Streaming', 'Browsing', 'Chat', 'Email', 'File-Transfer',\n",
       "       'P2P', 'Video-Streaming', 'VOIP'], dtype=object)"
      ]
     },
     "execution_count": 11,
     "metadata": {},
     "output_type": "execute_result"
    }
   ],
   "source": [
    "data[\"Label.1\"].unique()"
   ]
  },
  {
   "cell_type": "code",
   "execution_count": 12,
   "metadata": {},
   "outputs": [
    {
     "data": {
      "text/plain": [
       "P2P                48520\n",
       "Browsing           32808\n",
       "Audio-Streaming    18064\n",
       "Chat               11478\n",
       "File-Transfer      11182\n",
       "Video-Streaming     9767\n",
       "Email               6145\n",
       "VOIP                3566\n",
       "Name: Label.1, dtype: int64"
      ]
     },
     "execution_count": 12,
     "metadata": {},
     "output_type": "execute_result"
    }
   ],
   "source": [
    "data['Label.1'].value_counts()"
   ]
  },
  {
   "cell_type": "code",
   "execution_count": 13,
   "metadata": {},
   "outputs": [
    {
     "data": {
      "image/png": "[encoded data removed]",
      "text/plain": [
       "<Figure size 640x480 with 1 Axes>"
      ]
     },
     "metadata": {},
     "output_type": "display_data"
    }
   ],
   "source": [
    "# this plot is to show how Geography play a role at the customer churn \n",
    "ExitedValues = data['Label.1'].value_counts()\n",
    "labels = [\"P2P\",\"Browsing\",\"Audio-Streaming\", \"Chat\",\"File-Transfer\",\"Video-Streaming\",\"Email\",\"VOIP\"]\n",
    "fig1, f1 = plt.subplots()\n",
    "f1.pie(ExitedValues,labels=labels, autopct='%1.1f%%',shadow=True, startangle=60) \n",
    "f1.axis('equal')\n",
    "plt.tight_layout()\n",
    "plt.show()"
   ]
  },
  {
   "cell_type": "code",
   "execution_count": 14,
   "metadata": {},
   "outputs": [
    {
     "data": {
      "image/png": "[encoded data removed]",
      "text/plain": [
       "<Figure size 2000x500 with 1 Axes>"
      ]
     },
     "metadata": {},
     "output_type": "display_data"
    }
   ],
   "source": [
    "fig, ax = plt.subplots(figsize=(20,5))\n",
    "sns.histplot(data=data, x=\"Label.1\", stat=\"frequency\")\n",
    "plt.xlabel('')\n",
    "plt.show()"
   ]
  },
  {
   "cell_type": "code",
   "execution_count": 15,
   "metadata": {},
   "outputs": [],
   "source": [
    "data['Label'].loc[(data['Label'] == 'Non-Tor') | (data['Label'] == 'NonVPN')] = 'Benign'                # Legal Files, Safe Files\n",
    "data['Label'].loc[(data['Label'] == 'Tor') | (data['Label'] == 'VPN')] = 'Darknet'                      # illegal Files, Unsafe Files"
   ]
  },
  {
   "cell_type": "code",
   "execution_count": 16,
   "metadata": {},
   "outputs": [
    {
     "data": {
      "text/plain": [
       "array(['Benign', 'Darknet'], dtype=object)"
      ]
     },
     "execution_count": 16,
     "metadata": {},
     "output_type": "execute_result"
    }
   ],
   "source": [
    "data[\"Label\"].unique()"
   ]
  },
  {
   "cell_type": "code",
   "execution_count": 17,
   "metadata": {},
   "outputs": [
    {
     "data": {
      "image/png": "[encoded data removed]",
      "text/plain": [
       "<Figure size 640x480 with 1 Axes>"
      ]
     },
     "metadata": {},
     "output_type": "display_data"
    }
   ],
   "source": [
    "\n",
    "colors = ['#ff00ff', '#99ff00']\n",
    "ExitedValues = data['Label'].value_counts()\n",
    "labels = [\"Benign\",\"Darknet\"]\n",
    "fig1, f1 = plt.subplots()\n",
    "f1.pie(ExitedValues,labels=labels, autopct='%1.1f%%',shadow=True, startangle=60) \n",
    "f1.axis('equal')\n",
    "plt.tight_layout()\n",
    "plt.show()"
   ]
  },
  {
   "cell_type": "code",
   "execution_count": 18,
   "metadata": {},
   "outputs": [
    {
     "name": "stdout",
     "output_type": "stream",
     "text": [
      "                Timestamp  hour\n",
      "0  24/07/2015 04:09:48 PM     4\n",
      "1  24/07/2015 04:09:48 PM     4\n",
      "2  24/07/2015 04:09:48 PM     4\n",
      "3  24/07/2015 04:09:48 PM     4\n",
      "4  24/07/2015 04:09:45 PM     4\n"
     ]
    }
   ],
   "source": [
    "hours = []\n",
    "for timestamp in data['Timestamp']:\n",
    "    hour = int(timestamp.split()[1].split(':')[0])\n",
    "    hours.append(hour)\n",
    "data['hour'] = hours\n",
    "print(data[['Timestamp', 'hour']][:5])"
   ]
  },
  {
   "cell_type": "code",
   "execution_count": 19,
   "metadata": {},
   "outputs": [
    {
     "data": {
      "image/png": "[encoded data removed]",
      "text/plain": [
       "<Figure size 2000x500 with 1 Axes>"
      ]
     },
     "metadata": {},
     "output_type": "display_data"
    }
   ],
   "source": [
    "fig, ax = plt.subplots(figsize=(20,5))\n",
    "\n",
    "plot_graph_darknet = data[data['Label'] == \"Darknet\"]\n",
    "plot_graph_benign = data[data['Label'] == \"Benign\"]\n",
    "\n",
    "sns.kdeplot(plot_graph_darknet['hour'], shade=True, color=\"red\")\n",
    "sns.kdeplot(plot_graph_benign['hour'], shade=True, color=\"green\")\n",
    "\n",
    "plt.title(\"Graph\", fontsize = \"24\")\n",
    "plt.xlabel(\"Hour\", fontsize = \"15\")\n",
    "plt.ylabel(\"Number of Items\", fontsize = \"15\")\n",
    "\n",
    "plt.legend(['Darknet', 'Benign'], fontsize='24')\n",
    "plt.show()"
   ]
  },
  {
   "cell_type": "code",
   "execution_count": 20,
   "metadata": {},
   "outputs": [
    {
     "data": {
      "image/png": "[encoded data removed]",
      "text/plain": [
       "<Figure size 2000x500 with 1 Axes>"
      ]
     },
     "metadata": {},
     "output_type": "display_data"
    }
   ],
   "source": [
    "fig, ax = plt.subplots(figsize=(20,5))\n",
    "sns.histplot(data=data[data['Label'] == \"Benign\"], x=\"Label.1\", stat=\"probability\", color='green')\n",
    "plt.title(\"Benign\", fontsize = '20')\n",
    "plt.xlabel('')\n",
    "plt.show()"
   ]
  },
  {
   "cell_type": "code",
   "execution_count": 21,
   "metadata": {},
   "outputs": [
    {
     "data": {
      "image/png": "[encoded data removed]",
      "text/plain": [
       "<Figure size 2000x500 with 1 Axes>"
      ]
     },
     "metadata": {},
     "output_type": "display_data"
    }
   ],
   "source": [
    "fig, ax = plt.subplots(figsize=(20,5))\n",
    "sns.histplot(data=data[data['Label'] == \"Darknet\"], x=\"Label.1\", stat=\"probability\", color='red')\n",
    "plt.title(\"Darknet\", fontsize = '20')\n",
    "plt.xlabel('')\n",
    "plt.show()"
   ]
  },
  {
   "cell_type": "code",
   "execution_count": 22,
   "metadata": {},
   "outputs": [
    {
     "data": {
      "image/png": "[encoded data removed]",
      "text/plain": [
       "<Figure size 2000x500 with 1 Axes>"
      ]
     },
     "metadata": {},
     "output_type": "display_data"
    }
   ],
   "source": [
    "fig, ax = plt.subplots(figsize=(20,5))\n",
    "sns.histplot(data=data[data['Label'] == \"Benign\"], x=\"Label.1\", stat=\"probability\", color='green')\n",
    "sns.histplot(data=data[data['Label'] == \"Darknet\"], x=\"Label.1\", stat=\"probability\", color='red')\n",
    "plt.title(\"Benign VS Darknet\", fontsize = '20')\n",
    "plt.xlabel('')\n",
    "plt.legend(['Darknet', 'Benign'], fontsize='24')\n",
    "plt.show()"
   ]
  },
  {
   "cell_type": "code",
   "execution_count": 24,
   "metadata": {},
   "outputs": [
    {
     "data": {
      "text/html": [
       "<div>\n",
       "<style scoped>\n",
       "    .dataframe tbody tr th:only-of-type {\n",
       "        vertical-align: middle;\n",
       "    }\n",
       "\n",
       "    .dataframe tbody tr th {\n",
       "        vertical-align: top;\n",
       "    }\n",
       "\n",
       "    .dataframe thead th {\n",
       "        text-align: right;\n",
       "    }\n",
       "</style>\n",
       "<table border=\"1\" class=\"dataframe\">\n",
       "  <thead>\n",
       "    <tr style=\"text-align: right;\">\n",
       "      <th></th>\n",
       "      <th>Flow ID</th>\n",
       "      <th>Src IP</th>\n",
       "      <th>Src Port</th>\n",
       "      <th>Dst IP</th>\n",
       "      <th>Dst Port</th>\n",
       "      <th>Protocol</th>\n",
       "      <th>Timestamp</th>\n",
       "      <th>Flow Duration</th>\n",
       "      <th>Total Fwd Packet</th>\n",
       "      <th>Total Bwd packets</th>\n",
       "      <th>...</th>\n",
       "      <th>Active Std</th>\n",
       "      <th>Active Max</th>\n",
       "      <th>Active Min</th>\n",
       "      <th>Idle Mean</th>\n",
       "      <th>Idle Std</th>\n",
       "      <th>Idle Max</th>\n",
       "      <th>Idle Min</th>\n",
       "      <th>Label</th>\n",
       "      <th>Label.1</th>\n",
       "      <th>hour</th>\n",
       "    </tr>\n",
       "  </thead>\n",
       "  <tbody>\n",
       "    <tr>\n",
       "      <th>0</th>\n",
       "      <td>10.152.152.11-216.58.220.99-57158-443-6</td>\n",
       "      <td>10.152.152.11</td>\n",
       "      <td>57158</td>\n",
       "      <td>216.58.220.99</td>\n",
       "      <td>443</td>\n",
       "      <td>6</td>\n",
       "      <td>24/07/2015 04:09:48 PM</td>\n",
       "      <td>229</td>\n",
       "      <td>1</td>\n",
       "      <td>1</td>\n",
       "      <td>...</td>\n",
       "      <td>0</td>\n",
       "      <td>0</td>\n",
       "      <td>0</td>\n",
       "      <td>0.000000e+00</td>\n",
       "      <td>0.000</td>\n",
       "      <td>0.000000e+00</td>\n",
       "      <td>0.000000e+00</td>\n",
       "      <td>Benign</td>\n",
       "      <td>Audio-Streaming</td>\n",
       "      <td>4</td>\n",
       "    </tr>\n",
       "    <tr>\n",
       "      <th>1</th>\n",
       "      <td>10.152.152.11-216.58.220.99-57159-443-6</td>\n",
       "      <td>10.152.152.11</td>\n",
       "      <td>57159</td>\n",
       "      <td>216.58.220.99</td>\n",
       "      <td>443</td>\n",
       "      <td>6</td>\n",
       "      <td>24/07/2015 04:09:48 PM</td>\n",
       "      <td>407</td>\n",
       "      <td>1</td>\n",
       "      <td>1</td>\n",
       "      <td>...</td>\n",
       "      <td>0</td>\n",
       "      <td>0</td>\n",
       "      <td>0</td>\n",
       "      <td>0.000000e+00</td>\n",
       "      <td>0.000</td>\n",
       "      <td>0.000000e+00</td>\n",
       "      <td>0.000000e+00</td>\n",
       "      <td>Benign</td>\n",
       "      <td>Audio-Streaming</td>\n",
       "      <td>4</td>\n",
       "    </tr>\n",
       "    <tr>\n",
       "      <th>2</th>\n",
       "      <td>10.152.152.11-216.58.220.99-57160-443-6</td>\n",
       "      <td>10.152.152.11</td>\n",
       "      <td>57160</td>\n",
       "      <td>216.58.220.99</td>\n",
       "      <td>443</td>\n",
       "      <td>6</td>\n",
       "      <td>24/07/2015 04:09:48 PM</td>\n",
       "      <td>431</td>\n",
       "      <td>1</td>\n",
       "      <td>1</td>\n",
       "      <td>...</td>\n",
       "      <td>0</td>\n",
       "      <td>0</td>\n",
       "      <td>0</td>\n",
       "      <td>0.000000e+00</td>\n",
       "      <td>0.000</td>\n",
       "      <td>0.000000e+00</td>\n",
       "      <td>0.000000e+00</td>\n",
       "      <td>Benign</td>\n",
       "      <td>Audio-Streaming</td>\n",
       "      <td>4</td>\n",
       "    </tr>\n",
       "    <tr>\n",
       "      <th>3</th>\n",
       "      <td>10.152.152.11-74.125.136.120-49134-443-6</td>\n",
       "      <td>10.152.152.11</td>\n",
       "      <td>49134</td>\n",
       "      <td>74.125.136.120</td>\n",
       "      <td>443</td>\n",
       "      <td>6</td>\n",
       "      <td>24/07/2015 04:09:48 PM</td>\n",
       "      <td>359</td>\n",
       "      <td>1</td>\n",
       "      <td>1</td>\n",
       "      <td>...</td>\n",
       "      <td>0</td>\n",
       "      <td>0</td>\n",
       "      <td>0</td>\n",
       "      <td>0.000000e+00</td>\n",
       "      <td>0.000</td>\n",
       "      <td>0.000000e+00</td>\n",
       "      <td>0.000000e+00</td>\n",
       "      <td>Benign</td>\n",
       "      <td>Audio-Streaming</td>\n",
       "      <td>4</td>\n",
       "    </tr>\n",
       "    <tr>\n",
       "      <th>4</th>\n",
       "      <td>10.152.152.11-173.194.65.127-34697-19305-6</td>\n",
       "      <td>10.152.152.11</td>\n",
       "      <td>34697</td>\n",
       "      <td>173.194.65.127</td>\n",
       "      <td>19305</td>\n",
       "      <td>6</td>\n",
       "      <td>24/07/2015 04:09:45 PM</td>\n",
       "      <td>10778451</td>\n",
       "      <td>591</td>\n",
       "      <td>400</td>\n",
       "      <td>...</td>\n",
       "      <td>0</td>\n",
       "      <td>0</td>\n",
       "      <td>0</td>\n",
       "      <td>1.440000e+15</td>\n",
       "      <td>3117718.131</td>\n",
       "      <td>1.440000e+15</td>\n",
       "      <td>1.440000e+15</td>\n",
       "      <td>Benign</td>\n",
       "      <td>Audio-Streaming</td>\n",
       "      <td>4</td>\n",
       "    </tr>\n",
       "  </tbody>\n",
       "</table>\n",
       "<p>5 rows × 86 columns</p>\n",
       "</div>"
      ],
      "text/plain": [
       "                                      Flow ID         Src IP  Src Port  \\\n",
       "0     10.152.152.11-216.58.220.99-57158-443-6  10.152.152.11     57158   \n",
       "1     10.152.152.11-216.58.220.99-57159-443-6  10.152.152.11     57159   \n",
       "2     10.152.152.11-216.58.220.99-57160-443-6  10.152.152.11     57160   \n",
       "3    10.152.152.11-74.125.136.120-49134-443-6  10.152.152.11     49134   \n",
       "4  10.152.152.11-173.194.65.127-34697-19305-6  10.152.152.11     34697   \n",
       "\n",
       "           Dst IP  Dst Port  Protocol               Timestamp  Flow Duration  \\\n",
       "0   216.58.220.99       443         6  24/07/2015 04:09:48 PM            229   \n",
       "1   216.58.220.99       443         6  24/07/2015 04:09:48 PM            407   \n",
       "2   216.58.220.99       443         6  24/07/2015 04:09:48 PM            431   \n",
       "3  74.125.136.120       443         6  24/07/2015 04:09:48 PM            359   \n",
       "4  173.194.65.127     19305         6  24/07/2015 04:09:45 PM       10778451   \n",
       "\n",
       "   Total Fwd Packet  Total Bwd packets  ...  Active Std  Active Max  \\\n",
       "0                 1                  1  ...           0           0   \n",
       "1                 1                  1  ...           0           0   \n",
       "2                 1                  1  ...           0           0   \n",
       "3                 1                  1  ...           0           0   \n",
       "4               591                400  ...           0           0   \n",
       "\n",
       "   Active Min     Idle Mean     Idle Std      Idle Max      Idle Min   Label  \\\n",
       "0           0  0.000000e+00        0.000  0.000000e+00  0.000000e+00  Benign   \n",
       "1           0  0.000000e+00        0.000  0.000000e+00  0.000000e+00  Benign   \n",
       "2           0  0.000000e+00        0.000  0.000000e+00  0.000000e+00  Benign   \n",
       "3           0  0.000000e+00        0.000  0.000000e+00  0.000000e+00  Benign   \n",
       "4           0  1.440000e+15  3117718.131  1.440000e+15  1.440000e+15  Benign   \n",
       "\n",
       "           Label.1  hour  \n",
       "0  Audio-Streaming     4  \n",
       "1  Audio-Streaming     4  \n",
       "2  Audio-Streaming     4  \n",
       "3  Audio-Streaming     4  \n",
       "4  Audio-Streaming     4  \n",
       "\n",
       "[5 rows x 86 columns]"
      ]
     },
     "execution_count": 24,
     "metadata": {},
     "output_type": "execute_result"
    }
   ],
   "source": [
    "data.head()"
   ]
  },
  {
   "cell_type": "code",
   "execution_count": 23,
   "metadata": {},
   "outputs": [],
   "source": [
    "# unigram, bigram and trigram extraction\n",
    "def create_grams(ip):\n",
    "    parts = ip.split('.')\n",
    "    one_gram = parts[0]\n",
    "    two_gram = parts[0] + \" \" + parts[1]\n",
    "    three_gram = parts[0] + \" \" + parts[1] + \" \" + parts[2]\n",
    "    return one_gram, two_gram, three_gram"
   ]
  },
  {
   "cell_type": "code",
   "execution_count": 24,
   "metadata": {},
   "outputs": [],
   "source": [
    "src_one_gram = []\n",
    "src_two_gram = []\n",
    "src_three_gram = []\n",
    "dst_one_gram = []\n",
    "dst_two_gram = []\n",
    "dst_three_gram = []\n",
    "\n",
    "for src_ip, dst_ip in zip(data[\"Src IP\"], data[\"Dst IP\"]): \n",
    "    src_one, src_two, src_three = create_grams(src_ip)\n",
    "    src_one_gram.append(src_one)\n",
    "    src_two_gram.append(src_two)\n",
    "    src_three_gram.append(src_three)\n",
    "    dst_one, dst_two, dst_three = create_grams(dst_ip)\n",
    "    dst_one_gram.append(dst_one)\n",
    "    dst_two_gram.append(dst_two)\n",
    "    dst_three_gram.append(dst_three)\n"
   ]
  },
  {
   "cell_type": "code",
   "execution_count": 25,
   "metadata": {},
   "outputs": [],
   "source": [
    "data[\"src_ip_1gram\"] = src_one_gram\n",
    "data[\"src_ip_2gram\"] = src_two_gram\n",
    "data[\"src_ip_3gram\"] = src_three_gram"
   ]
  },
  {
   "cell_type": "code",
   "execution_count": 26,
   "metadata": {},
   "outputs": [],
   "source": [
    "data[\"dst_ip_1gram\"] = dst_one_gram\n",
    "data[\"dst_ip_2gram\"] = dst_two_gram\n",
    "data[\"dst_ip_3gram\"] = dst_three_gram"
   ]
  },
  {
   "cell_type": "code",
   "execution_count": 27,
   "metadata": {},
   "outputs": [
    {
     "name": "stdout",
     "output_type": "stream",
     "text": [
      "            Src IP src_ip_1gram src_ip_2gram src_ip_3gram\n",
      "200  10.152.152.11           10       10 152   10 152 152\n",
      "201  74.125.28.189           74       74 125    74 125 28\n",
      "202  74.125.28.189           74       74 125    74 125 28\n",
      "203  10.152.152.11           10       10 152   10 152 152\n",
      "204  10.152.152.11           10       10 152   10 152 152\n",
      "--------------------------------------------------------\n",
      "           Dst IP dst_ip_1gram dst_ip_2gram dst_ip_3gram\n",
      "0   216.58.220.99          216       216 58   216 58 220\n",
      "1   216.58.220.99          216       216 58   216 58 220\n",
      "2   216.58.220.99          216       216 58   216 58 220\n",
      "3  74.125.136.120           74       74 125   74 125 136\n",
      "4  173.194.65.127          173      173 194   173 194 65\n"
     ]
    }
   ],
   "source": [
    "print(data[[\"Src IP\",\"src_ip_1gram\",\"src_ip_2gram\",\"src_ip_3gram\"]][200:205])\n",
    "print(\"--------------------------------------------------------\")\n",
    "print(data[[\"Dst IP\",\"dst_ip_1gram\",\"dst_ip_2gram\",\"dst_ip_3gram\"]][:5])"
   ]
  },
  {
   "cell_type": "code",
   "execution_count": 28,
   "metadata": {},
   "outputs": [
    {
     "data": {
      "text/plain": [
       "Index(['Flow ID', 'Src IP', 'Src Port', 'Dst IP', 'Dst Port', 'Protocol',\n",
       "       'Timestamp', 'Flow Duration', 'Total Fwd Packet', 'Total Bwd packets',\n",
       "       'Total Length of Fwd Packet', 'Total Length of Bwd Packet',\n",
       "       'Fwd Packet Length Max', 'Fwd Packet Length Min',\n",
       "       'Fwd Packet Length Mean', 'Fwd Packet Length Std',\n",
       "       'Bwd Packet Length Max', 'Bwd Packet Length Min',\n",
       "       'Bwd Packet Length Mean', 'Bwd Packet Length Std', 'Flow Bytes/s',\n",
       "       'Flow Packets/s', 'Flow IAT Mean', 'Flow IAT Std', 'Flow IAT Max',\n",
       "       'Flow IAT Min', 'Fwd IAT Total', 'Fwd IAT Mean', 'Fwd IAT Std',\n",
       "       'Fwd IAT Max', 'Fwd IAT Min', 'Bwd IAT Total', 'Bwd IAT Mean',\n",
       "       'Bwd IAT Std', 'Bwd IAT Max', 'Bwd IAT Min', 'Fwd PSH Flags',\n",
       "       'Bwd PSH Flags', 'Fwd URG Flags', 'Bwd URG Flags', 'Fwd Header Length',\n",
       "       'Bwd Header Length', 'Fwd Packets/s', 'Bwd Packets/s',\n",
       "       'Packet Length Min', 'Packet Length Max', 'Packet Length Mean',\n",
       "       'Packet Length Std', 'Packet Length Variance', 'FIN Flag Count',\n",
       "       'SYN Flag Count', 'RST Flag Count', 'PSH Flag Count', 'ACK Flag Count',\n",
       "       'URG Flag Count', 'CWE Flag Count', 'ECE Flag Count', 'Down/Up Ratio',\n",
       "       'Average Packet Size', 'Fwd Segment Size Avg', 'Bwd Segment Size Avg',\n",
       "       'Fwd Bytes/Bulk Avg', 'Fwd Packet/Bulk Avg', 'Fwd Bulk Rate Avg',\n",
       "       'Bwd Bytes/Bulk Avg', 'Bwd Packet/Bulk Avg', 'Bwd Bulk Rate Avg',\n",
       "       'Subflow Fwd Packets', 'Subflow Fwd Bytes', 'Subflow Bwd Packets',\n",
       "       'Subflow Bwd Bytes', 'FWD Init Win Bytes', 'Bwd Init Win Bytes',\n",
       "       'Fwd Act Data Pkts', 'Fwd Seg Size Min', 'Active Mean', 'Active Std',\n",
       "       'Active Max', 'Active Min', 'Idle Mean', 'Idle Std', 'Idle Max',\n",
       "       'Idle Min', 'Label', 'Label.1', 'hour', 'src_ip_1gram', 'src_ip_2gram',\n",
       "       'src_ip_3gram', 'dst_ip_1gram', 'dst_ip_2gram', 'dst_ip_3gram'],\n",
       "      dtype='object')"
      ]
     },
     "execution_count": 28,
     "metadata": {},
     "output_type": "execute_result"
    }
   ],
   "source": [
    "data.columns"
   ]
  },
  {
   "cell_type": "code",
   "execution_count": 29,
   "metadata": {},
   "outputs": [
    {
     "data": {
      "text/plain": [
       "(141530, 92)"
      ]
     },
     "execution_count": 29,
     "metadata": {},
     "output_type": "execute_result"
    }
   ],
   "source": [
    "data.shape"
   ]
  },
  {
   "cell_type": "code",
   "execution_count": 30,
   "metadata": {},
   "outputs": [
    {
     "name": "stdout",
     "output_type": "stream",
     "text": [
      "['Flow Duration', 'Total Fwd Packet', 'Total Bwd packets', 'Total Length of Fwd Packet', 'Total Length of Bwd Packet', 'Fwd Packet Length Max', 'Fwd Packet Length Min', 'Fwd Packet Length Mean', 'Fwd Packet Length Std', 'Bwd Packet Length Max', 'Bwd Packet Length Min', 'Bwd Packet Length Mean', 'Bwd Packet Length Std', 'Flow Bytes/s', 'Flow Packets/s', 'Flow IAT Mean', 'Flow IAT Std', 'Flow IAT Max', 'Flow IAT Min', 'Fwd IAT Total', 'Fwd IAT Mean', 'Fwd IAT Std', 'Fwd IAT Max', 'Fwd IAT Min', 'Bwd IAT Total', 'Bwd IAT Mean', 'Bwd IAT Std', 'Bwd IAT Max', 'Bwd IAT Min', 'Fwd PSH Flags', 'Bwd PSH Flags', 'Fwd URG Flags', 'Bwd URG Flags', 'Fwd Header Length', 'Bwd Header Length', 'Fwd Packets/s', 'Bwd Packets/s', 'Packet Length Min', 'Packet Length Max', 'Packet Length Mean', 'Packet Length Std', 'Packet Length Variance', 'FIN Flag Count', 'SYN Flag Count', 'RST Flag Count', 'PSH Flag Count', 'ACK Flag Count', 'URG Flag Count', 'CWE Flag Count', 'ECE Flag Count', 'Down/Up Ratio', 'Average Packet Size', 'Fwd Segment Size Avg', 'Bwd Segment Size Avg', 'Fwd Bytes/Bulk Avg', 'Fwd Packet/Bulk Avg', 'Fwd Bulk Rate Avg', 'Bwd Bytes/Bulk Avg', 'Bwd Packet/Bulk Avg', 'Bwd Bulk Rate Avg', 'Subflow Fwd Packets', 'Subflow Fwd Bytes', 'Subflow Bwd Packets', 'Subflow Bwd Bytes', 'FWD Init Win Bytes', 'Bwd Init Win Bytes', 'Fwd Act Data Pkts', 'Fwd Seg Size Min']\n"
     ]
    }
   ],
   "source": [
    "real_columns = ['Flow Duration', 'Total Fwd Packet', 'Total Bwd packets', 'Total Length of Fwd Packet', 'Total Length of Bwd Packet', 'Fwd Packet Length Max', 'Fwd Packet Length Min', 'Fwd Packet Length Mean', 'Fwd Packet Length Std', 'Bwd Packet Length Max', 'Bwd Packet Length Min', 'Bwd Packet Length Mean', 'Bwd Packet Length Std', 'Flow Bytes/s', 'Flow Packets/s', 'Flow IAT Mean', 'Flow IAT Std', 'Flow IAT Max', 'Flow IAT Min', 'Fwd IAT Total', 'Fwd IAT Mean', 'Fwd IAT Std', 'Fwd IAT Max', 'Fwd IAT Min', 'Bwd IAT Total', 'Bwd IAT Mean', 'Bwd IAT Std', 'Bwd IAT Max', 'Bwd IAT Min', 'Fwd PSH Flags', 'Bwd PSH Flags', 'Fwd URG Flags', 'Bwd URG Flags', 'Fwd Header Length', 'Bwd Header Length', 'Fwd Packets/s', 'Bwd Packets/s', 'Packet Length Min', 'Packet Length Max', 'Packet Length Mean', 'Packet Length Std', 'Packet Length Variance', 'FIN Flag Count', 'SYN Flag Count', 'RST Flag Count', 'PSH Flag Count', 'ACK Flag Count', 'URG Flag Count', 'CWE Flag Count', 'ECE Flag Count', 'Down/Up Ratio', 'Average Packet Size', 'Fwd Segment Size Avg', 'Bwd Segment Size Avg', 'Fwd Bytes/Bulk Avg', 'Fwd Packet/Bulk Avg', 'Fwd Bulk Rate Avg', 'Bwd Bytes/Bulk Avg', 'Bwd Packet/Bulk Avg', 'Bwd Bulk Rate Avg', 'Subflow Fwd Packets', 'Subflow Fwd Bytes', 'Subflow Bwd Packets', 'Subflow Bwd Bytes', 'FWD Init Win Bytes', 'Bwd Init Win Bytes', 'Fwd Act Data Pkts', 'Fwd Seg Size Min']\n",
    "print(real_columns)"
   ]
  },
  {
   "cell_type": "code",
   "execution_count": 31,
   "metadata": {},
   "outputs": [],
   "source": [
    "samples = data.copy()"
   ]
  },
  {
   "cell_type": "code",
   "execution_count": 32,
   "metadata": {},
   "outputs": [
    {
     "data": {
      "text/plain": [
       "Flow Bytes/s    47\n",
       "dtype: int64"
      ]
     },
     "execution_count": 32,
     "metadata": {},
     "output_type": "execute_result"
    }
   ],
   "source": [
    "is_na_cols = samples.columns[samples.isna().sum() > 0]\n",
    "samples.isna().sum()[is_na_cols] "
   ]
  },
  {
   "cell_type": "code",
   "execution_count": 33,
   "metadata": {},
   "outputs": [
    {
     "data": {
      "text/plain": [
       "Flow Bytes/s    0\n",
       "dtype: int64"
      ]
     },
     "execution_count": 33,
     "metadata": {},
     "output_type": "execute_result"
    }
   ],
   "source": [
    "samples = samples.dropna()\n",
    "samples.isna().sum()[is_na_cols] "
   ]
  },
  {
   "cell_type": "code",
   "execution_count": 34,
   "metadata": {},
   "outputs": [],
   "source": [
    "samples[real_columns] = samples[real_columns].astype(np.float64)\n",
    "samples[real_columns] = samples[real_columns].replace([np.inf, -np.inf], np.nan)\n",
    "samples[real_columns] = samples[real_columns].dropna()"
   ]
  },
  {
   "cell_type": "code",
   "execution_count": 35,
   "metadata": {},
   "outputs": [],
   "source": [
    "del samples['Flow ID']\n",
    "del samples['Timestamp']\n",
    "del samples['Src IP']\n",
    "del samples['Dst IP']"
   ]
  },
  {
   "cell_type": "code",
   "execution_count": 36,
   "metadata": {},
   "outputs": [
    {
     "data": {
      "text/html": [
       "<div>\n",
       "<style scoped>\n",
       "    .dataframe tbody tr th:only-of-type {\n",
       "        vertical-align: middle;\n",
       "    }\n",
       "\n",
       "    .dataframe tbody tr th {\n",
       "        vertical-align: top;\n",
       "    }\n",
       "\n",
       "    .dataframe thead th {\n",
       "        text-align: right;\n",
       "    }\n",
       "</style>\n",
       "<table border=\"1\" class=\"dataframe\">\n",
       "  <thead>\n",
       "    <tr style=\"text-align: right;\">\n",
       "      <th></th>\n",
       "      <th>Src Port</th>\n",
       "      <th>Dst Port</th>\n",
       "      <th>Protocol</th>\n",
       "      <th>Flow Duration</th>\n",
       "      <th>Total Fwd Packet</th>\n",
       "      <th>Total Bwd packets</th>\n",
       "      <th>Total Length of Fwd Packet</th>\n",
       "      <th>Total Length of Bwd Packet</th>\n",
       "      <th>Fwd Packet Length Max</th>\n",
       "      <th>Fwd Packet Length Min</th>\n",
       "      <th>...</th>\n",
       "      <th>Idle Min</th>\n",
       "      <th>Label</th>\n",
       "      <th>Label.1</th>\n",
       "      <th>hour</th>\n",
       "      <th>src_ip_1gram</th>\n",
       "      <th>src_ip_2gram</th>\n",
       "      <th>src_ip_3gram</th>\n",
       "      <th>dst_ip_1gram</th>\n",
       "      <th>dst_ip_2gram</th>\n",
       "      <th>dst_ip_3gram</th>\n",
       "    </tr>\n",
       "  </thead>\n",
       "  <tbody>\n",
       "    <tr>\n",
       "      <th>0</th>\n",
       "      <td>57158</td>\n",
       "      <td>443</td>\n",
       "      <td>6</td>\n",
       "      <td>229.0</td>\n",
       "      <td>1.0</td>\n",
       "      <td>1.0</td>\n",
       "      <td>0.0</td>\n",
       "      <td>0.0</td>\n",
       "      <td>0.0</td>\n",
       "      <td>0.0</td>\n",
       "      <td>...</td>\n",
       "      <td>0.000000e+00</td>\n",
       "      <td>Benign</td>\n",
       "      <td>Audio-Streaming</td>\n",
       "      <td>4</td>\n",
       "      <td>10</td>\n",
       "      <td>10 152</td>\n",
       "      <td>10 152 152</td>\n",
       "      <td>216</td>\n",
       "      <td>216 58</td>\n",
       "      <td>216 58 220</td>\n",
       "    </tr>\n",
       "    <tr>\n",
       "      <th>1</th>\n",
       "      <td>57159</td>\n",
       "      <td>443</td>\n",
       "      <td>6</td>\n",
       "      <td>407.0</td>\n",
       "      <td>1.0</td>\n",
       "      <td>1.0</td>\n",
       "      <td>0.0</td>\n",
       "      <td>0.0</td>\n",
       "      <td>0.0</td>\n",
       "      <td>0.0</td>\n",
       "      <td>...</td>\n",
       "      <td>0.000000e+00</td>\n",
       "      <td>Benign</td>\n",
       "      <td>Audio-Streaming</td>\n",
       "      <td>4</td>\n",
       "      <td>10</td>\n",
       "      <td>10 152</td>\n",
       "      <td>10 152 152</td>\n",
       "      <td>216</td>\n",
       "      <td>216 58</td>\n",
       "      <td>216 58 220</td>\n",
       "    </tr>\n",
       "    <tr>\n",
       "      <th>2</th>\n",
       "      <td>57160</td>\n",
       "      <td>443</td>\n",
       "      <td>6</td>\n",
       "      <td>431.0</td>\n",
       "      <td>1.0</td>\n",
       "      <td>1.0</td>\n",
       "      <td>0.0</td>\n",
       "      <td>0.0</td>\n",
       "      <td>0.0</td>\n",
       "      <td>0.0</td>\n",
       "      <td>...</td>\n",
       "      <td>0.000000e+00</td>\n",
       "      <td>Benign</td>\n",
       "      <td>Audio-Streaming</td>\n",
       "      <td>4</td>\n",
       "      <td>10</td>\n",
       "      <td>10 152</td>\n",
       "      <td>10 152 152</td>\n",
       "      <td>216</td>\n",
       "      <td>216 58</td>\n",
       "      <td>216 58 220</td>\n",
       "    </tr>\n",
       "    <tr>\n",
       "      <th>3</th>\n",
       "      <td>49134</td>\n",
       "      <td>443</td>\n",
       "      <td>6</td>\n",
       "      <td>359.0</td>\n",
       "      <td>1.0</td>\n",
       "      <td>1.0</td>\n",
       "      <td>0.0</td>\n",
       "      <td>0.0</td>\n",
       "      <td>0.0</td>\n",
       "      <td>0.0</td>\n",
       "      <td>...</td>\n",
       "      <td>0.000000e+00</td>\n",
       "      <td>Benign</td>\n",
       "      <td>Audio-Streaming</td>\n",
       "      <td>4</td>\n",
       "      <td>10</td>\n",
       "      <td>10 152</td>\n",
       "      <td>10 152 152</td>\n",
       "      <td>74</td>\n",
       "      <td>74 125</td>\n",
       "      <td>74 125 136</td>\n",
       "    </tr>\n",
       "    <tr>\n",
       "      <th>4</th>\n",
       "      <td>34697</td>\n",
       "      <td>19305</td>\n",
       "      <td>6</td>\n",
       "      <td>10778451.0</td>\n",
       "      <td>591.0</td>\n",
       "      <td>400.0</td>\n",
       "      <td>64530.0</td>\n",
       "      <td>6659.0</td>\n",
       "      <td>131.0</td>\n",
       "      <td>0.0</td>\n",
       "      <td>...</td>\n",
       "      <td>1.440000e+15</td>\n",
       "      <td>Benign</td>\n",
       "      <td>Audio-Streaming</td>\n",
       "      <td>4</td>\n",
       "      <td>10</td>\n",
       "      <td>10 152</td>\n",
       "      <td>10 152 152</td>\n",
       "      <td>173</td>\n",
       "      <td>173 194</td>\n",
       "      <td>173 194 65</td>\n",
       "    </tr>\n",
       "  </tbody>\n",
       "</table>\n",
       "<p>5 rows × 88 columns</p>\n",
       "</div>"
      ],
      "text/plain": [
       "   Src Port  Dst Port  Protocol  Flow Duration  Total Fwd Packet  \\\n",
       "0     57158       443         6          229.0               1.0   \n",
       "1     57159       443         6          407.0               1.0   \n",
       "2     57160       443         6          431.0               1.0   \n",
       "3     49134       443         6          359.0               1.0   \n",
       "4     34697     19305         6     10778451.0             591.0   \n",
       "\n",
       "   Total Bwd packets  Total Length of Fwd Packet  Total Length of Bwd Packet  \\\n",
       "0                1.0                         0.0                         0.0   \n",
       "1                1.0                         0.0                         0.0   \n",
       "2                1.0                         0.0                         0.0   \n",
       "3                1.0                         0.0                         0.0   \n",
       "4              400.0                     64530.0                      6659.0   \n",
       "\n",
       "   Fwd Packet Length Max  Fwd Packet Length Min  ...      Idle Min   Label  \\\n",
       "0                    0.0                    0.0  ...  0.000000e+00  Benign   \n",
       "1                    0.0                    0.0  ...  0.000000e+00  Benign   \n",
       "2                    0.0                    0.0  ...  0.000000e+00  Benign   \n",
       "3                    0.0                    0.0  ...  0.000000e+00  Benign   \n",
       "4                  131.0                    0.0  ...  1.440000e+15  Benign   \n",
       "\n",
       "           Label.1  hour  src_ip_1gram  src_ip_2gram  src_ip_3gram  \\\n",
       "0  Audio-Streaming     4            10        10 152    10 152 152   \n",
       "1  Audio-Streaming     4            10        10 152    10 152 152   \n",
       "2  Audio-Streaming     4            10        10 152    10 152 152   \n",
       "3  Audio-Streaming     4            10        10 152    10 152 152   \n",
       "4  Audio-Streaming     4            10        10 152    10 152 152   \n",
       "\n",
       "   dst_ip_1gram  dst_ip_2gram  dst_ip_3gram  \n",
       "0           216        216 58    216 58 220  \n",
       "1           216        216 58    216 58 220  \n",
       "2           216        216 58    216 58 220  \n",
       "3            74        74 125    74 125 136  \n",
       "4           173       173 194    173 194 65  \n",
       "\n",
       "[5 rows x 88 columns]"
      ]
     },
     "execution_count": 36,
     "metadata": {},
     "output_type": "execute_result"
    }
   ],
   "source": [
    "samples.head()"
   ]
  },
  {
   "cell_type": "code",
   "execution_count": 37,
   "metadata": {},
   "outputs": [
    {
     "data": {
      "text/plain": [
       "Index(['Src Port', 'Dst Port', 'Protocol', 'Flow Duration', 'Total Fwd Packet',\n",
       "       'Total Bwd packets', 'Total Length of Fwd Packet',\n",
       "       'Total Length of Bwd Packet', 'Fwd Packet Length Max',\n",
       "       'Fwd Packet Length Min', 'Fwd Packet Length Mean',\n",
       "       'Fwd Packet Length Std', 'Bwd Packet Length Max',\n",
       "       'Bwd Packet Length Min', 'Bwd Packet Length Mean',\n",
       "       'Bwd Packet Length Std', 'Flow Bytes/s', 'Flow Packets/s',\n",
       "       'Flow IAT Mean', 'Flow IAT Std', 'Flow IAT Max', 'Flow IAT Min',\n",
       "       'Fwd IAT Total', 'Fwd IAT Mean', 'Fwd IAT Std', 'Fwd IAT Max',\n",
       "       'Fwd IAT Min', 'Bwd IAT Total', 'Bwd IAT Mean', 'Bwd IAT Std',\n",
       "       'Bwd IAT Max', 'Bwd IAT Min', 'Fwd PSH Flags', 'Bwd PSH Flags',\n",
       "       'Fwd URG Flags', 'Bwd URG Flags', 'Fwd Header Length',\n",
       "       'Bwd Header Length', 'Fwd Packets/s', 'Bwd Packets/s',\n",
       "       'Packet Length Min', 'Packet Length Max', 'Packet Length Mean',\n",
       "       'Packet Length Std', 'Packet Length Variance', 'FIN Flag Count',\n",
       "       'SYN Flag Count', 'RST Flag Count', 'PSH Flag Count', 'ACK Flag Count',\n",
       "       'URG Flag Count', 'CWE Flag Count', 'ECE Flag Count', 'Down/Up Ratio',\n",
       "       'Average Packet Size', 'Fwd Segment Size Avg', 'Bwd Segment Size Avg',\n",
       "       'Fwd Bytes/Bulk Avg', 'Fwd Packet/Bulk Avg', 'Fwd Bulk Rate Avg',\n",
       "       'Bwd Bytes/Bulk Avg', 'Bwd Packet/Bulk Avg', 'Bwd Bulk Rate Avg',\n",
       "       'Subflow Fwd Packets', 'Subflow Fwd Bytes', 'Subflow Bwd Packets',\n",
       "       'Subflow Bwd Bytes', 'FWD Init Win Bytes', 'Bwd Init Win Bytes',\n",
       "       'Fwd Act Data Pkts', 'Fwd Seg Size Min', 'Active Mean', 'Active Std',\n",
       "       'Active Max', 'Active Min', 'Idle Mean', 'Idle Std', 'Idle Max',\n",
       "       'Idle Min', 'Label', 'Label.1'],\n",
       "      dtype='object')"
      ]
     },
     "execution_count": 37,
     "metadata": {},
     "output_type": "execute_result"
    }
   ],
   "source": [
    "samples.columns[:81]"
   ]
  },
  {
   "cell_type": "code",
   "execution_count": 38,
   "metadata": {},
   "outputs": [
    {
     "data": {
      "text/plain": [
       "Index(['hour', 'src_ip_1gram', 'src_ip_2gram', 'src_ip_3gram', 'dst_ip_1gram',\n",
       "       'dst_ip_2gram', 'dst_ip_3gram'],\n",
       "      dtype='object')"
      ]
     },
     "execution_count": 38,
     "metadata": {},
     "output_type": "execute_result"
    }
   ],
   "source": [
    "samples.columns[81:]"
   ]
  },
  {
   "cell_type": "code",
   "execution_count": 39,
   "metadata": {},
   "outputs": [],
   "source": [
    "cols = np.concatenate((samples.columns[81:], samples.columns[:81]))\n",
    "samples = samples[cols]"
   ]
  },
  {
   "cell_type": "code",
   "execution_count": 40,
   "metadata": {},
   "outputs": [
    {
     "data": {
      "text/plain": [
       "Index(['hour', 'src_ip_1gram', 'src_ip_2gram', 'src_ip_3gram', 'dst_ip_1gram',\n",
       "       'dst_ip_2gram', 'dst_ip_3gram', 'Src Port', 'Dst Port', 'Protocol',\n",
       "       'Flow Duration', 'Total Fwd Packet', 'Total Bwd packets',\n",
       "       'Total Length of Fwd Packet', 'Total Length of Bwd Packet',\n",
       "       'Fwd Packet Length Max', 'Fwd Packet Length Min',\n",
       "       'Fwd Packet Length Mean', 'Fwd Packet Length Std',\n",
       "       'Bwd Packet Length Max', 'Bwd Packet Length Min',\n",
       "       'Bwd Packet Length Mean', 'Bwd Packet Length Std', 'Flow Bytes/s',\n",
       "       'Flow Packets/s', 'Flow IAT Mean', 'Flow IAT Std', 'Flow IAT Max',\n",
       "       'Flow IAT Min', 'Fwd IAT Total', 'Fwd IAT Mean', 'Fwd IAT Std',\n",
       "       'Fwd IAT Max', 'Fwd IAT Min', 'Bwd IAT Total', 'Bwd IAT Mean',\n",
       "       'Bwd IAT Std', 'Bwd IAT Max', 'Bwd IAT Min', 'Fwd PSH Flags',\n",
       "       'Bwd PSH Flags', 'Fwd URG Flags', 'Bwd URG Flags', 'Fwd Header Length',\n",
       "       'Bwd Header Length', 'Fwd Packets/s', 'Bwd Packets/s',\n",
       "       'Packet Length Min', 'Packet Length Max', 'Packet Length Mean',\n",
       "       'Packet Length Std', 'Packet Length Variance', 'FIN Flag Count',\n",
       "       'SYN Flag Count', 'RST Flag Count', 'PSH Flag Count', 'ACK Flag Count',\n",
       "       'URG Flag Count', 'CWE Flag Count', 'ECE Flag Count', 'Down/Up Ratio',\n",
       "       'Average Packet Size', 'Fwd Segment Size Avg', 'Bwd Segment Size Avg',\n",
       "       'Fwd Bytes/Bulk Avg', 'Fwd Packet/Bulk Avg', 'Fwd Bulk Rate Avg',\n",
       "       'Bwd Bytes/Bulk Avg', 'Bwd Packet/Bulk Avg', 'Bwd Bulk Rate Avg',\n",
       "       'Subflow Fwd Packets', 'Subflow Fwd Bytes', 'Subflow Bwd Packets',\n",
       "       'Subflow Bwd Bytes', 'FWD Init Win Bytes', 'Bwd Init Win Bytes',\n",
       "       'Fwd Act Data Pkts', 'Fwd Seg Size Min', 'Active Mean', 'Active Std',\n",
       "       'Active Max', 'Active Min', 'Idle Mean', 'Idle Std', 'Idle Max',\n",
       "       'Idle Min', 'Label', 'Label.1'],\n",
       "      dtype='object')"
      ]
     },
     "execution_count": 40,
     "metadata": {},
     "output_type": "execute_result"
    }
   ],
   "source": [
    "samples.columns"
   ]
  },
  {
   "cell_type": "code",
   "execution_count": 41,
   "metadata": {},
   "outputs": [
    {
     "data": {
      "text/html": [
       "<div>\n",
       "<style scoped>\n",
       "    .dataframe tbody tr th:only-of-type {\n",
       "        vertical-align: middle;\n",
       "    }\n",
       "\n",
       "    .dataframe tbody tr th {\n",
       "        vertical-align: top;\n",
       "    }\n",
       "\n",
       "    .dataframe thead th {\n",
       "        text-align: right;\n",
       "    }\n",
       "</style>\n",
       "<table border=\"1\" class=\"dataframe\">\n",
       "  <thead>\n",
       "    <tr style=\"text-align: right;\">\n",
       "      <th></th>\n",
       "      <th>hour</th>\n",
       "      <th>src_ip_1gram</th>\n",
       "      <th>src_ip_2gram</th>\n",
       "      <th>src_ip_3gram</th>\n",
       "      <th>dst_ip_1gram</th>\n",
       "      <th>dst_ip_2gram</th>\n",
       "      <th>dst_ip_3gram</th>\n",
       "      <th>Src Port</th>\n",
       "      <th>Dst Port</th>\n",
       "      <th>Protocol</th>\n",
       "      <th>...</th>\n",
       "      <th>Active Mean</th>\n",
       "      <th>Active Std</th>\n",
       "      <th>Active Max</th>\n",
       "      <th>Active Min</th>\n",
       "      <th>Idle Mean</th>\n",
       "      <th>Idle Std</th>\n",
       "      <th>Idle Max</th>\n",
       "      <th>Idle Min</th>\n",
       "      <th>Label</th>\n",
       "      <th>Label.1</th>\n",
       "    </tr>\n",
       "  </thead>\n",
       "  <tbody>\n",
       "    <tr>\n",
       "      <th>0</th>\n",
       "      <td>4</td>\n",
       "      <td>10</td>\n",
       "      <td>10 152</td>\n",
       "      <td>10 152 152</td>\n",
       "      <td>216</td>\n",
       "      <td>216 58</td>\n",
       "      <td>216 58 220</td>\n",
       "      <td>57158</td>\n",
       "      <td>443</td>\n",
       "      <td>6</td>\n",
       "      <td>...</td>\n",
       "      <td>0</td>\n",
       "      <td>0</td>\n",
       "      <td>0</td>\n",
       "      <td>0</td>\n",
       "      <td>0.000000e+00</td>\n",
       "      <td>0.000</td>\n",
       "      <td>0.000000e+00</td>\n",
       "      <td>0.000000e+00</td>\n",
       "      <td>Benign</td>\n",
       "      <td>Audio-Streaming</td>\n",
       "    </tr>\n",
       "    <tr>\n",
       "      <th>1</th>\n",
       "      <td>4</td>\n",
       "      <td>10</td>\n",
       "      <td>10 152</td>\n",
       "      <td>10 152 152</td>\n",
       "      <td>216</td>\n",
       "      <td>216 58</td>\n",
       "      <td>216 58 220</td>\n",
       "      <td>57159</td>\n",
       "      <td>443</td>\n",
       "      <td>6</td>\n",
       "      <td>...</td>\n",
       "      <td>0</td>\n",
       "      <td>0</td>\n",
       "      <td>0</td>\n",
       "      <td>0</td>\n",
       "      <td>0.000000e+00</td>\n",
       "      <td>0.000</td>\n",
       "      <td>0.000000e+00</td>\n",
       "      <td>0.000000e+00</td>\n",
       "      <td>Benign</td>\n",
       "      <td>Audio-Streaming</td>\n",
       "    </tr>\n",
       "    <tr>\n",
       "      <th>2</th>\n",
       "      <td>4</td>\n",
       "      <td>10</td>\n",
       "      <td>10 152</td>\n",
       "      <td>10 152 152</td>\n",
       "      <td>216</td>\n",
       "      <td>216 58</td>\n",
       "      <td>216 58 220</td>\n",
       "      <td>57160</td>\n",
       "      <td>443</td>\n",
       "      <td>6</td>\n",
       "      <td>...</td>\n",
       "      <td>0</td>\n",
       "      <td>0</td>\n",
       "      <td>0</td>\n",
       "      <td>0</td>\n",
       "      <td>0.000000e+00</td>\n",
       "      <td>0.000</td>\n",
       "      <td>0.000000e+00</td>\n",
       "      <td>0.000000e+00</td>\n",
       "      <td>Benign</td>\n",
       "      <td>Audio-Streaming</td>\n",
       "    </tr>\n",
       "    <tr>\n",
       "      <th>3</th>\n",
       "      <td>4</td>\n",
       "      <td>10</td>\n",
       "      <td>10 152</td>\n",
       "      <td>10 152 152</td>\n",
       "      <td>74</td>\n",
       "      <td>74 125</td>\n",
       "      <td>74 125 136</td>\n",
       "      <td>49134</td>\n",
       "      <td>443</td>\n",
       "      <td>6</td>\n",
       "      <td>...</td>\n",
       "      <td>0</td>\n",
       "      <td>0</td>\n",
       "      <td>0</td>\n",
       "      <td>0</td>\n",
       "      <td>0.000000e+00</td>\n",
       "      <td>0.000</td>\n",
       "      <td>0.000000e+00</td>\n",
       "      <td>0.000000e+00</td>\n",
       "      <td>Benign</td>\n",
       "      <td>Audio-Streaming</td>\n",
       "    </tr>\n",
       "    <tr>\n",
       "      <th>4</th>\n",
       "      <td>4</td>\n",
       "      <td>10</td>\n",
       "      <td>10 152</td>\n",
       "      <td>10 152 152</td>\n",
       "      <td>173</td>\n",
       "      <td>173 194</td>\n",
       "      <td>173 194 65</td>\n",
       "      <td>34697</td>\n",
       "      <td>19305</td>\n",
       "      <td>6</td>\n",
       "      <td>...</td>\n",
       "      <td>0</td>\n",
       "      <td>0</td>\n",
       "      <td>0</td>\n",
       "      <td>0</td>\n",
       "      <td>1.440000e+15</td>\n",
       "      <td>3117718.131</td>\n",
       "      <td>1.440000e+15</td>\n",
       "      <td>1.440000e+15</td>\n",
       "      <td>Benign</td>\n",
       "      <td>Audio-Streaming</td>\n",
       "    </tr>\n",
       "  </tbody>\n",
       "</table>\n",
       "<p>5 rows × 88 columns</p>\n",
       "</div>"
      ],
      "text/plain": [
       "   hour src_ip_1gram src_ip_2gram src_ip_3gram dst_ip_1gram dst_ip_2gram  \\\n",
       "0     4           10       10 152   10 152 152          216       216 58   \n",
       "1     4           10       10 152   10 152 152          216       216 58   \n",
       "2     4           10       10 152   10 152 152          216       216 58   \n",
       "3     4           10       10 152   10 152 152           74       74 125   \n",
       "4     4           10       10 152   10 152 152          173      173 194   \n",
       "\n",
       "  dst_ip_3gram  Src Port  Dst Port  Protocol  ...  Active Mean  Active Std  \\\n",
       "0   216 58 220     57158       443         6  ...            0           0   \n",
       "1   216 58 220     57159       443         6  ...            0           0   \n",
       "2   216 58 220     57160       443         6  ...            0           0   \n",
       "3   74 125 136     49134       443         6  ...            0           0   \n",
       "4   173 194 65     34697     19305         6  ...            0           0   \n",
       "\n",
       "   Active Max  Active Min     Idle Mean     Idle Std      Idle Max  \\\n",
       "0           0           0  0.000000e+00        0.000  0.000000e+00   \n",
       "1           0           0  0.000000e+00        0.000  0.000000e+00   \n",
       "2           0           0  0.000000e+00        0.000  0.000000e+00   \n",
       "3           0           0  0.000000e+00        0.000  0.000000e+00   \n",
       "4           0           0  1.440000e+15  3117718.131  1.440000e+15   \n",
       "\n",
       "       Idle Min   Label          Label.1  \n",
       "0  0.000000e+00  Benign  Audio-Streaming  \n",
       "1  0.000000e+00  Benign  Audio-Streaming  \n",
       "2  0.000000e+00  Benign  Audio-Streaming  \n",
       "3  0.000000e+00  Benign  Audio-Streaming  \n",
       "4  1.440000e+15  Benign  Audio-Streaming  \n",
       "\n",
       "[5 rows x 88 columns]"
      ]
     },
     "execution_count": 41,
     "metadata": {},
     "output_type": "execute_result"
    }
   ],
   "source": [
    "samples.head()"
   ]
  },
  {
   "cell_type": "code",
   "execution_count": 42,
   "metadata": {},
   "outputs": [],
   "source": [
    "model_samples = samples.copy()"
   ]
  },
  {
   "cell_type": "code",
   "execution_count": 43,
   "metadata": {},
   "outputs": [
    {
     "name": "stdout",
     "output_type": "stream",
     "text": [
      "['src_ip_1gram', 'src_ip_2gram', 'src_ip_3gram', 'dst_ip_1gram', 'dst_ip_2gram', 'dst_ip_3gram']\n"
     ]
    }
   ],
   "source": [
    "hash_enc_cols = ['src_ip_1gram', 'src_ip_2gram', 'src_ip_3gram', 'dst_ip_1gram',\n",
    " 'dst_ip_2gram', 'dst_ip_3gram']\n",
    "print(hash_enc_cols)"
   ]
  },
  {
   "cell_type": "code",
   "execution_count": 44,
   "metadata": {},
   "outputs": [],
   "source": [
    "from category_encoders.hashing import HashingEncoder"
   ]
  },
  {
   "cell_type": "code",
   "execution_count": 45,
   "metadata": {},
   "outputs": [],
   "source": [
    "hash_enc = HashingEncoder(cols=hash_enc_cols, n_components=100).fit(model_samples)\n",
    "model_samples = hash_enc.transform(model_samples)"
   ]
  },
  {
   "cell_type": "code",
   "execution_count": 46,
   "metadata": {},
   "outputs": [
    {
     "data": {
      "text/html": [
       "<div>\n",
       "<style scoped>\n",
       "    .dataframe tbody tr th:only-of-type {\n",
       "        vertical-align: middle;\n",
       "    }\n",
       "\n",
       "    .dataframe tbody tr th {\n",
       "        vertical-align: top;\n",
       "    }\n",
       "\n",
       "    .dataframe thead th {\n",
       "        text-align: right;\n",
       "    }\n",
       "</style>\n",
       "<table border=\"1\" class=\"dataframe\">\n",
       "  <thead>\n",
       "    <tr style=\"text-align: right;\">\n",
       "      <th></th>\n",
       "      <th>col_0</th>\n",
       "      <th>col_1</th>\n",
       "      <th>col_2</th>\n",
       "      <th>col_3</th>\n",
       "      <th>col_4</th>\n",
       "      <th>col_5</th>\n",
       "      <th>col_6</th>\n",
       "      <th>col_7</th>\n",
       "      <th>col_8</th>\n",
       "      <th>col_9</th>\n",
       "      <th>...</th>\n",
       "      <th>Active Mean</th>\n",
       "      <th>Active Std</th>\n",
       "      <th>Active Max</th>\n",
       "      <th>Active Min</th>\n",
       "      <th>Idle Mean</th>\n",
       "      <th>Idle Std</th>\n",
       "      <th>Idle Max</th>\n",
       "      <th>Idle Min</th>\n",
       "      <th>Label</th>\n",
       "      <th>Label.1</th>\n",
       "    </tr>\n",
       "  </thead>\n",
       "  <tbody>\n",
       "    <tr>\n",
       "      <th>0</th>\n",
       "      <td>0</td>\n",
       "      <td>0</td>\n",
       "      <td>0</td>\n",
       "      <td>0</td>\n",
       "      <td>0</td>\n",
       "      <td>0</td>\n",
       "      <td>0</td>\n",
       "      <td>0</td>\n",
       "      <td>0</td>\n",
       "      <td>0</td>\n",
       "      <td>...</td>\n",
       "      <td>0</td>\n",
       "      <td>0</td>\n",
       "      <td>0</td>\n",
       "      <td>0</td>\n",
       "      <td>0.000000e+00</td>\n",
       "      <td>0.000</td>\n",
       "      <td>0.000000e+00</td>\n",
       "      <td>0.000000e+00</td>\n",
       "      <td>Benign</td>\n",
       "      <td>Audio-Streaming</td>\n",
       "    </tr>\n",
       "    <tr>\n",
       "      <th>1</th>\n",
       "      <td>0</td>\n",
       "      <td>0</td>\n",
       "      <td>0</td>\n",
       "      <td>0</td>\n",
       "      <td>0</td>\n",
       "      <td>0</td>\n",
       "      <td>0</td>\n",
       "      <td>0</td>\n",
       "      <td>0</td>\n",
       "      <td>0</td>\n",
       "      <td>...</td>\n",
       "      <td>0</td>\n",
       "      <td>0</td>\n",
       "      <td>0</td>\n",
       "      <td>0</td>\n",
       "      <td>0.000000e+00</td>\n",
       "      <td>0.000</td>\n",
       "      <td>0.000000e+00</td>\n",
       "      <td>0.000000e+00</td>\n",
       "      <td>Benign</td>\n",
       "      <td>Audio-Streaming</td>\n",
       "    </tr>\n",
       "    <tr>\n",
       "      <th>2</th>\n",
       "      <td>0</td>\n",
       "      <td>0</td>\n",
       "      <td>0</td>\n",
       "      <td>0</td>\n",
       "      <td>0</td>\n",
       "      <td>0</td>\n",
       "      <td>0</td>\n",
       "      <td>0</td>\n",
       "      <td>0</td>\n",
       "      <td>0</td>\n",
       "      <td>...</td>\n",
       "      <td>0</td>\n",
       "      <td>0</td>\n",
       "      <td>0</td>\n",
       "      <td>0</td>\n",
       "      <td>0.000000e+00</td>\n",
       "      <td>0.000</td>\n",
       "      <td>0.000000e+00</td>\n",
       "      <td>0.000000e+00</td>\n",
       "      <td>Benign</td>\n",
       "      <td>Audio-Streaming</td>\n",
       "    </tr>\n",
       "    <tr>\n",
       "      <th>3</th>\n",
       "      <td>0</td>\n",
       "      <td>0</td>\n",
       "      <td>0</td>\n",
       "      <td>0</td>\n",
       "      <td>0</td>\n",
       "      <td>0</td>\n",
       "      <td>0</td>\n",
       "      <td>0</td>\n",
       "      <td>0</td>\n",
       "      <td>0</td>\n",
       "      <td>...</td>\n",
       "      <td>0</td>\n",
       "      <td>0</td>\n",
       "      <td>0</td>\n",
       "      <td>0</td>\n",
       "      <td>0.000000e+00</td>\n",
       "      <td>0.000</td>\n",
       "      <td>0.000000e+00</td>\n",
       "      <td>0.000000e+00</td>\n",
       "      <td>Benign</td>\n",
       "      <td>Audio-Streaming</td>\n",
       "    </tr>\n",
       "    <tr>\n",
       "      <th>4</th>\n",
       "      <td>0</td>\n",
       "      <td>0</td>\n",
       "      <td>0</td>\n",
       "      <td>0</td>\n",
       "      <td>0</td>\n",
       "      <td>0</td>\n",
       "      <td>0</td>\n",
       "      <td>0</td>\n",
       "      <td>0</td>\n",
       "      <td>0</td>\n",
       "      <td>...</td>\n",
       "      <td>0</td>\n",
       "      <td>0</td>\n",
       "      <td>0</td>\n",
       "      <td>0</td>\n",
       "      <td>1.440000e+15</td>\n",
       "      <td>3117718.131</td>\n",
       "      <td>1.440000e+15</td>\n",
       "      <td>1.440000e+15</td>\n",
       "      <td>Benign</td>\n",
       "      <td>Audio-Streaming</td>\n",
       "    </tr>\n",
       "  </tbody>\n",
       "</table>\n",
       "<p>5 rows × 182 columns</p>\n",
       "</div>"
      ],
      "text/plain": [
       "   col_0  col_1  col_2  col_3  col_4  col_5  col_6  col_7  col_8  col_9  ...  \\\n",
       "0      0      0      0      0      0      0      0      0      0      0  ...   \n",
       "1      0      0      0      0      0      0      0      0      0      0  ...   \n",
       "2      0      0      0      0      0      0      0      0      0      0  ...   \n",
       "3      0      0      0      0      0      0      0      0      0      0  ...   \n",
       "4      0      0      0      0      0      0      0      0      0      0  ...   \n",
       "\n",
       "   Active Mean  Active Std  Active Max  Active Min     Idle Mean     Idle Std  \\\n",
       "0            0           0           0           0  0.000000e+00        0.000   \n",
       "1            0           0           0           0  0.000000e+00        0.000   \n",
       "2            0           0           0           0  0.000000e+00        0.000   \n",
       "3            0           0           0           0  0.000000e+00        0.000   \n",
       "4            0           0           0           0  1.440000e+15  3117718.131   \n",
       "\n",
       "       Idle Max      Idle Min   Label          Label.1  \n",
       "0  0.000000e+00  0.000000e+00  Benign  Audio-Streaming  \n",
       "1  0.000000e+00  0.000000e+00  Benign  Audio-Streaming  \n",
       "2  0.000000e+00  0.000000e+00  Benign  Audio-Streaming  \n",
       "3  0.000000e+00  0.000000e+00  Benign  Audio-Streaming  \n",
       "4  1.440000e+15  1.440000e+15  Benign  Audio-Streaming  \n",
       "\n",
       "[5 rows x 182 columns]"
      ]
     },
     "execution_count": 46,
     "metadata": {},
     "output_type": "execute_result"
    }
   ],
   "source": [
    "from category_encoders.hashing import HashingEncoder\n",
    "hash_enc = HashingEncoder(cols=hash_enc_cols, n_components=100).fit(model_samples)\n",
    "model_samples = hash_enc.transform(model_samples)\n",
    "model_samples.head()"
   ]
  },
  {
   "cell_type": "code",
   "execution_count": 47,
   "metadata": {},
   "outputs": [
    {
     "data": {
      "text/plain": [
       "Index(['col_0', 'col_1', 'col_2', 'col_3', 'col_4', 'col_5', 'col_6', 'col_7',\n",
       "       'col_8', 'col_9',\n",
       "       ...\n",
       "       'Active Mean', 'Active Std', 'Active Max', 'Active Min', 'Idle Mean',\n",
       "       'Idle Std', 'Idle Max', 'Idle Min', 'Label', 'Label.1'],\n",
       "      dtype='object', length=182)"
      ]
     },
     "execution_count": 47,
     "metadata": {},
     "output_type": "execute_result"
    }
   ],
   "source": [
    "model_samples.columns"
   ]
  },
  {
   "cell_type": "code",
   "execution_count": 48,
   "metadata": {},
   "outputs": [],
   "source": [
    "from sklearn.preprocessing import StandardScaler"
   ]
  },
  {
   "cell_type": "code",
   "execution_count": 49,
   "metadata": {},
   "outputs": [
    {
     "data": {
      "text/html": [
       "<div>\n",
       "<style scoped>\n",
       "    .dataframe tbody tr th:only-of-type {\n",
       "        vertical-align: middle;\n",
       "    }\n",
       "\n",
       "    .dataframe tbody tr th {\n",
       "        vertical-align: top;\n",
       "    }\n",
       "\n",
       "    .dataframe thead th {\n",
       "        text-align: right;\n",
       "    }\n",
       "</style>\n",
       "<table border=\"1\" class=\"dataframe\">\n",
       "  <thead>\n",
       "    <tr style=\"text-align: right;\">\n",
       "      <th></th>\n",
       "      <th>Flow Duration</th>\n",
       "      <th>Total Fwd Packet</th>\n",
       "      <th>Total Bwd packets</th>\n",
       "      <th>Total Length of Fwd Packet</th>\n",
       "      <th>Total Length of Bwd Packet</th>\n",
       "      <th>Fwd Packet Length Max</th>\n",
       "      <th>Fwd Packet Length Min</th>\n",
       "      <th>Fwd Packet Length Mean</th>\n",
       "      <th>Fwd Packet Length Std</th>\n",
       "      <th>Bwd Packet Length Max</th>\n",
       "      <th>...</th>\n",
       "      <th>Bwd Packet/Bulk Avg</th>\n",
       "      <th>Bwd Bulk Rate Avg</th>\n",
       "      <th>Subflow Fwd Packets</th>\n",
       "      <th>Subflow Fwd Bytes</th>\n",
       "      <th>Subflow Bwd Packets</th>\n",
       "      <th>Subflow Bwd Bytes</th>\n",
       "      <th>FWD Init Win Bytes</th>\n",
       "      <th>Bwd Init Win Bytes</th>\n",
       "      <th>Fwd Act Data Pkts</th>\n",
       "      <th>Fwd Seg Size Min</th>\n",
       "    </tr>\n",
       "  </thead>\n",
       "  <tbody>\n",
       "    <tr>\n",
       "      <th>0</th>\n",
       "      <td>-0.546508</td>\n",
       "      <td>-0.063838</td>\n",
       "      <td>-0.044949</td>\n",
       "      <td>-0.034644</td>\n",
       "      <td>-0.028574</td>\n",
       "      <td>-0.321759</td>\n",
       "      <td>-0.498852</td>\n",
       "      <td>-0.316449</td>\n",
       "      <td>-0.379416</td>\n",
       "      <td>-0.292366</td>\n",
       "      <td>...</td>\n",
       "      <td>-0.052228</td>\n",
       "      <td>-0.043209</td>\n",
       "      <td>-0.634075</td>\n",
       "      <td>-0.313203</td>\n",
       "      <td>0.0</td>\n",
       "      <td>-0.413046</td>\n",
       "      <td>-0.345303</td>\n",
       "      <td>-0.095141</td>\n",
       "      <td>-0.061219</td>\n",
       "      <td>0.589647</td>\n",
       "    </tr>\n",
       "    <tr>\n",
       "      <th>1</th>\n",
       "      <td>-0.546503</td>\n",
       "      <td>-0.063838</td>\n",
       "      <td>-0.044949</td>\n",
       "      <td>-0.034644</td>\n",
       "      <td>-0.028574</td>\n",
       "      <td>-0.321759</td>\n",
       "      <td>-0.498852</td>\n",
       "      <td>-0.316449</td>\n",
       "      <td>-0.379416</td>\n",
       "      <td>-0.292366</td>\n",
       "      <td>...</td>\n",
       "      <td>-0.052228</td>\n",
       "      <td>-0.043209</td>\n",
       "      <td>-0.634075</td>\n",
       "      <td>-0.313203</td>\n",
       "      <td>0.0</td>\n",
       "      <td>-0.413046</td>\n",
       "      <td>-0.335704</td>\n",
       "      <td>-0.095141</td>\n",
       "      <td>-0.061219</td>\n",
       "      <td>0.589647</td>\n",
       "    </tr>\n",
       "    <tr>\n",
       "      <th>2</th>\n",
       "      <td>-0.546502</td>\n",
       "      <td>-0.063838</td>\n",
       "      <td>-0.044949</td>\n",
       "      <td>-0.034644</td>\n",
       "      <td>-0.028574</td>\n",
       "      <td>-0.321759</td>\n",
       "      <td>-0.498852</td>\n",
       "      <td>-0.316449</td>\n",
       "      <td>-0.379416</td>\n",
       "      <td>-0.292366</td>\n",
       "      <td>...</td>\n",
       "      <td>-0.052228</td>\n",
       "      <td>-0.043209</td>\n",
       "      <td>-0.634075</td>\n",
       "      <td>-0.313203</td>\n",
       "      <td>0.0</td>\n",
       "      <td>-0.413046</td>\n",
       "      <td>-0.329439</td>\n",
       "      <td>-0.095141</td>\n",
       "      <td>-0.061219</td>\n",
       "      <td>0.589647</td>\n",
       "    </tr>\n",
       "    <tr>\n",
       "      <th>3</th>\n",
       "      <td>-0.546504</td>\n",
       "      <td>-0.063838</td>\n",
       "      <td>-0.044949</td>\n",
       "      <td>-0.034644</td>\n",
       "      <td>-0.028574</td>\n",
       "      <td>-0.321759</td>\n",
       "      <td>-0.498852</td>\n",
       "      <td>-0.316449</td>\n",
       "      <td>-0.379416</td>\n",
       "      <td>-0.292366</td>\n",
       "      <td>...</td>\n",
       "      <td>-0.052228</td>\n",
       "      <td>-0.043209</td>\n",
       "      <td>-0.634075</td>\n",
       "      <td>-0.313203</td>\n",
       "      <td>0.0</td>\n",
       "      <td>-0.413046</td>\n",
       "      <td>-0.333582</td>\n",
       "      <td>-0.095141</td>\n",
       "      <td>-0.061219</td>\n",
       "      <td>0.589647</td>\n",
       "    </tr>\n",
       "    <tr>\n",
       "      <th>4</th>\n",
       "      <td>-0.263585</td>\n",
       "      <td>0.184194</td>\n",
       "      <td>0.071741</td>\n",
       "      <td>-0.014801</td>\n",
       "      <td>-0.027116</td>\n",
       "      <td>-0.120075</td>\n",
       "      <td>-0.498852</td>\n",
       "      <td>0.179861</td>\n",
       "      <td>-0.247304</td>\n",
       "      <td>0.340530</td>\n",
       "      <td>...</td>\n",
       "      <td>0.164343</td>\n",
       "      <td>-0.036900</td>\n",
       "      <td>-0.634075</td>\n",
       "      <td>0.158678</td>\n",
       "      <td>0.0</td>\n",
       "      <td>-0.368398</td>\n",
       "      <td>-0.396835</td>\n",
       "      <td>0.073134</td>\n",
       "      <td>0.305786</td>\n",
       "      <td>0.589647</td>\n",
       "    </tr>\n",
       "  </tbody>\n",
       "</table>\n",
       "<p>5 rows × 68 columns</p>\n",
       "</div>"
      ],
      "text/plain": [
       "   Flow Duration  Total Fwd Packet  Total Bwd packets  \\\n",
       "0      -0.546508         -0.063838          -0.044949   \n",
       "1      -0.546503         -0.063838          -0.044949   \n",
       "2      -0.546502         -0.063838          -0.044949   \n",
       "3      -0.546504         -0.063838          -0.044949   \n",
       "4      -0.263585          0.184194           0.071741   \n",
       "\n",
       "   Total Length of Fwd Packet  Total Length of Bwd Packet  \\\n",
       "0                   -0.034644                   -0.028574   \n",
       "1                   -0.034644                   -0.028574   \n",
       "2                   -0.034644                   -0.028574   \n",
       "3                   -0.034644                   -0.028574   \n",
       "4                   -0.014801                   -0.027116   \n",
       "\n",
       "   Fwd Packet Length Max  Fwd Packet Length Min  Fwd Packet Length Mean  \\\n",
       "0              -0.321759              -0.498852               -0.316449   \n",
       "1              -0.321759              -0.498852               -0.316449   \n",
       "2              -0.321759              -0.498852               -0.316449   \n",
       "3              -0.321759              -0.498852               -0.316449   \n",
       "4              -0.120075              -0.498852                0.179861   \n",
       "\n",
       "   Fwd Packet Length Std  Bwd Packet Length Max  ...  Bwd Packet/Bulk Avg  \\\n",
       "0              -0.379416              -0.292366  ...            -0.052228   \n",
       "1              -0.379416              -0.292366  ...            -0.052228   \n",
       "2              -0.379416              -0.292366  ...            -0.052228   \n",
       "3              -0.379416              -0.292366  ...            -0.052228   \n",
       "4              -0.247304               0.340530  ...             0.164343   \n",
       "\n",
       "   Bwd Bulk Rate Avg  Subflow Fwd Packets  Subflow Fwd Bytes  \\\n",
       "0          -0.043209            -0.634075          -0.313203   \n",
       "1          -0.043209            -0.634075          -0.313203   \n",
       "2          -0.043209            -0.634075          -0.313203   \n",
       "3          -0.043209            -0.634075          -0.313203   \n",
       "4          -0.036900            -0.634075           0.158678   \n",
       "\n",
       "   Subflow Bwd Packets  Subflow Bwd Bytes  FWD Init Win Bytes  \\\n",
       "0                  0.0          -0.413046           -0.345303   \n",
       "1                  0.0          -0.413046           -0.335704   \n",
       "2                  0.0          -0.413046           -0.329439   \n",
       "3                  0.0          -0.413046           -0.333582   \n",
       "4                  0.0          -0.368398           -0.396835   \n",
       "\n",
       "   Bwd Init Win Bytes  Fwd Act Data Pkts  Fwd Seg Size Min  \n",
       "0           -0.095141          -0.061219          0.589647  \n",
       "1           -0.095141          -0.061219          0.589647  \n",
       "2           -0.095141          -0.061219          0.589647  \n",
       "3           -0.095141          -0.061219          0.589647  \n",
       "4            0.073134           0.305786          0.589647  \n",
       "\n",
       "[5 rows x 68 columns]"
      ]
     },
     "execution_count": 49,
     "metadata": {},
     "output_type": "execute_result"
    }
   ],
   "source": [
    "scaler = StandardScaler().fit(model_samples[real_columns])\n",
    "model_samples[real_columns] = scaler.transform(model_samples[real_columns])\n",
    "model_samples[real_columns].head()"
   ]
  },
  {
   "cell_type": "code",
   "execution_count": 50,
   "metadata": {},
   "outputs": [
    {
     "name": "stdout",
     "output_type": "stream",
     "text": [
      "Series([], dtype: float64)\n"
     ]
    }
   ],
   "source": [
    "samples = samples.dropna()\n",
    "model_samples = model_samples.dropna()\n",
    "print(samples[samples.columns[samples.isna().sum()>0]].isna().sum())"
   ]
  },
  {
   "cell_type": "code",
   "execution_count": 51,
   "metadata": {},
   "outputs": [],
   "source": [
    "samples.to_csv('samples.csv', index=False)"
   ]
  },
  {
   "cell_type": "code",
   "execution_count": 52,
   "metadata": {},
   "outputs": [],
   "source": [
    "model_samples.to_csv('model_samples.csv', index=False)"
   ]
  }
 ],
 "metadata": {
  "kernelspec": {
   "display_name": "Python 3",
   "language": "python",
   "name": "python3"
  },
  "language_info": {
   "codemirror_mode": {
    "name": "ipython",
    "version": 3
   },
   "file_extension": ".py",
   "mimetype": "text/x-python",
   "name": "python",
   "nbconvert_exporter": "python",
   "pygments_lexer": "ipython3",
   "version": "3.11.1"
  },
  "orig_nbformat": 4
 },
 "nbformat": 4,
 "nbformat_minor": 2
}
